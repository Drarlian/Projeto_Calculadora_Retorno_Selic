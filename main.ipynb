{
 "cells": [
  {
   "cell_type": "code",
   "id": "initial_id",
   "metadata": {
    "collapsed": true
   },
   "source": [
    "\"\"\"\n",
    "OBJETIVO: Análisar a rentabilidade da Selic, pegando dados direto do Banco Central, criando uma calculadora de retorno desde 1995 e avaliando janelas de retorno.\n",
    "\n",
    "ENUNCIADO 1:\n",
    "    - O fundo mais lucrativo da principal empresa de gestão de ativos de Gotham City segue uma regra simples: o lucro é o juro composto calculado com a taxa de juros SELIC. Seu desafio é criar um programa que calcule uma série que contenha o lucro total, dado um valor inicial de capital em um determinado período de tempo (data de início, data de término) com diferentes frequências (frequência). \n",
    "    \n",
    "    - Sua solução deve seguir as restrições abaixo:\n",
    "        • A data de início deve ser maior ou igual a 01/01/1995. \n",
    "        • A data de término deve ser posterior à data de início. \n",
    "        • A frequência deve ser: dia, mês ou ano. (D, ME, Y)\n",
    "\n",
    "ENUNCIADO 2:\n",
    "    - Depois de desenvolver sua solução, responda a esta pergunta:\n",
    "    \n",
    "    - Qual foi o período mais lucrativo de 500 dias corridos desde 01/01/2001 até 31/01/2001?\n",
    "    - Ou seja, se voçê tivesse que investir um valor C de capital por 500 dias, qual teria sido \n",
    "    o período mais lucrativo desde o início de 2001 até o final de marõ de 2022?\n",
    "    - Sua resposta deve ser a data de início e término do período encontrado.\n",
    "    \n",
    "    Passo a passo:\n",
    "        - Passo 1: Filtrar dados da selic no período da questão.\n",
    "        - Passo 2: Calcular a rentabilidade das janelas de 500 dias.\n",
    "        - Passo 3: Criar o range de datas na tabela.\n",
    "        - Passo 4: Pegar o maior retorno da tabela. \n",
    "\"\"\""
   ],
   "outputs": [],
   "execution_count": null
  },
  {
   "metadata": {},
   "cell_type": "markdown",
   "source": "OBJETIVO 1:",
   "id": "5035e2df3940bf88"
  },
  {
   "metadata": {},
   "cell_type": "code",
   "source": "!pip install python-bcb matplotlib numpy",
   "id": "6390ea898f145cbd",
   "outputs": [],
   "execution_count": null
  },
  {
   "metadata": {
    "ExecuteTime": {
     "end_time": "2024-09-11T17:20:43.426351Z",
     "start_time": "2024-09-11T17:20:41.366581Z"
    }
   },
   "cell_type": "code",
   "source": [
    "# Instalando e Importando os Módulos e Bibliotecas:\n",
    "from datetime import datetime, date\n",
    "from matplotlib import pyplot as plt\n",
    "import numpy as np\n",
    "from bcb import sgs"
   ],
   "id": "5a55bbe927ac27c3",
   "outputs": [],
   "execution_count": 3
  },
  {
   "metadata": {
    "ExecuteTime": {
     "end_time": "2024-09-11T17:26:52.923039Z",
     "start_time": "2024-09-11T17:26:29.198304Z"
    }
   },
   "cell_type": "code",
   "source": [
    "# Colentando os dados do usuário:\n",
    "capital: float = float(input('Digite o valor do capital: '))\n",
    "frequencia: str = input('Digite a frequência do período (Y, ME, D): ')\n",
    "inicio: str = input('Digite a data inicial maior que 01/01/1995 no formato DD/MM/YY: ')\n",
    "final: str = input('Digite a data final no seguinte formato DD/MM/YY: ')"
   ],
   "id": "636a7054e0485da6",
   "outputs": [],
   "execution_count": 7
  },
  {
   "metadata": {
    "ExecuteTime": {
     "end_time": "2024-09-11T17:26:52.932471Z",
     "start_time": "2024-09-11T17:26:52.923039Z"
    }
   },
   "cell_type": "code",
   "source": [
    "# Tratando os dados coletado:\n",
    "data_inicial: date = datetime.strptime(inicio, '%d/%m/%Y').date()\n",
    "data_final: date = datetime.strptime(final, '%d/%m/%Y').date()\n",
    "\n",
    "print(f'Data Inicial: {data_inicial}')\n",
    "print(f'Data Final: {data_final}')"
   ],
   "id": "e2acc37b906d39a5",
   "outputs": [
    {
     "name": "stdout",
     "output_type": "stream",
     "text": [
      "Data Inicial: 2001-09-18\n",
      "Data Final: 2021-09-18\n"
     ]
    }
   ],
   "execution_count": 8
  },
  {
   "metadata": {
    "ExecuteTime": {
     "end_time": "2024-09-11T17:26:59.370941Z",
     "start_time": "2024-09-11T17:26:52.932471Z"
    }
   },
   "cell_type": "code",
   "source": [
    "# Pegando Dados da Selic do Banco Central\n",
    "taxas_selic = sgs.get({'selic': 11}, start=data_inicial, end=data_final)\n",
    "\n",
    "print(taxas_selic)"
   ],
   "id": "b9f79ef4e29b5ded",
   "outputs": [
    {
     "name": "stdout",
     "output_type": "stream",
     "text": [
      "               selic\n",
      "Date                \n",
      "2001-09-18  0.069253\n",
      "2001-09-19  0.069253\n",
      "2001-09-20  0.069253\n",
      "2001-09-21  0.069253\n",
      "2001-09-24  0.069286\n",
      "...              ...\n",
      "2021-09-13  0.019930\n",
      "2021-09-14  0.019930\n",
      "2021-09-15  0.019930\n",
      "2021-09-16  0.019930\n",
      "2021-09-17  0.019930\n",
      "\n",
      "[5025 rows x 1 columns]\n"
     ]
    }
   ],
   "execution_count": 9
  },
  {
   "metadata": {
    "ExecuteTime": {
     "end_time": "2024-09-11T17:26:59.377175Z",
     "start_time": "2024-09-11T17:26:59.370941Z"
    }
   },
   "cell_type": "code",
   "source": [
    "# Convertendo as taxas selic para decimal (Por padrão vem em %)\n",
    "# Basicamente essa informação convertida nos diz quanto dinheiro era rendido por dia durante o periodo.\n",
    "taxas_selic = taxas_selic/100\n",
    "\n",
    "print(taxas_selic)"
   ],
   "id": "afa54f102209e495",
   "outputs": [
    {
     "name": "stdout",
     "output_type": "stream",
     "text": [
      "               selic\n",
      "Date                \n",
      "2001-09-18  0.000693\n",
      "2001-09-19  0.000693\n",
      "2001-09-20  0.000693\n",
      "2001-09-21  0.000693\n",
      "2001-09-24  0.000693\n",
      "...              ...\n",
      "2021-09-13  0.000199\n",
      "2021-09-14  0.000199\n",
      "2021-09-15  0.000199\n",
      "2021-09-16  0.000199\n",
      "2021-09-17  0.000199\n",
      "\n",
      "[5025 rows x 1 columns]\n"
     ]
    }
   ],
   "execution_count": 10
  },
  {
   "metadata": {
    "ExecuteTime": {
     "end_time": "2024-09-11T17:26:59.387933Z",
     "start_time": "2024-09-11T17:26:59.377175Z"
    }
   },
   "cell_type": "code",
   "source": [
    "# Calculando o retorno do período:\n",
    "capital_acumulado = capital * (1 + taxas_selic['selic']).cumprod() - 1\n",
    "\n",
    "print(capital_acumulado)"
   ],
   "id": "35a551e3ab33fe90",
   "outputs": [
    {
     "name": "stdout",
     "output_type": "stream",
     "text": [
      "Date\n",
      "2001-09-18    100068.253000\n",
      "2001-09-19    100137.553960\n",
      "2001-09-20    100206.902913\n",
      "2001-09-21    100276.299892\n",
      "2001-09-24    100345.778022\n",
      "                  ...      \n",
      "2021-09-13    912953.233823\n",
      "2021-09-14    913135.185602\n",
      "2021-09-15    913317.173643\n",
      "2021-09-16    913499.197955\n",
      "2021-09-17    913681.258545\n",
      "Name: selic, Length: 5025, dtype: float64\n"
     ]
    }
   ],
   "execution_count": 11
  },
  {
   "metadata": {
    "ExecuteTime": {
     "end_time": "2024-09-11T17:26:59.398842Z",
     "start_time": "2024-09-11T17:26:59.387933Z"
    }
   },
   "cell_type": "code",
   "source": [
    "# Comprimindo o capital acumulado na frequência informada: (Por padrão vem como Diária)\n",
    "capital_com_frequencia = capital_acumulado.resample(frequencia).last()\n",
    "\n",
    "print(capital_com_frequencia)"
   ],
   "id": "15d1ee4057de5a2a",
   "outputs": [
    {
     "name": "stdout",
     "output_type": "stream",
     "text": [
      "Date\n",
      "2001-09-30    100624.374378\n",
      "2001-10-31    102168.910996\n",
      "2001-11-30    103592.585613\n",
      "2001-12-31    105036.205320\n",
      "2002-01-31    106647.433402\n",
      "                  ...      \n",
      "2021-05-31    901623.558119\n",
      "2021-06-30    904398.568882\n",
      "2021-07-31    907614.760063\n",
      "2021-08-31    911498.924193\n",
      "2021-09-30    913681.258545\n",
      "Freq: ME, Name: selic, Length: 241, dtype: float64\n"
     ]
    }
   ],
   "execution_count": 12
  },
  {
   "metadata": {},
   "cell_type": "markdown",
   "source": "OBJETIVO 2:",
   "id": "1d850bc9bb4c4945"
  },
  {
   "metadata": {
    "ExecuteTime": {
     "end_time": "2024-09-11T17:41:02.969283Z",
     "start_time": "2024-09-11T17:41:02.953151Z"
    }
   },
   "cell_type": "code",
   "source": [
    "# Definindo as datas em questão:\n",
    "data_inicial2 = date(2000, 1, 1)\n",
    "data_final2 = date(2022, 3, 31)"
   ],
   "id": "2bee429c2e9c58e4",
   "outputs": [],
   "execution_count": 13
  },
  {
   "metadata": {
    "ExecuteTime": {
     "end_time": "2024-09-11T17:49:12.528996Z",
     "start_time": "2024-09-11T17:48:59.725664Z"
    }
   },
   "cell_type": "code",
   "source": [
    "# Obtendo os rendimentos da Taxa Selic durante o período informado e Convertendo eles para decimal (Por padrão vem em %)\n",
    "selic_questao_2 = sgs.get({'selic': 11}, start=data_inicial2, end=data_final2) / 100\n",
    "\n",
    "print(selic_questao_2)"
   ],
   "id": "b73e30c03317977b",
   "outputs": [
    {
     "name": "stdout",
     "output_type": "stream",
     "text": [
      "               selic\n",
      "Date                \n",
      "2000-01-03  0.000692\n",
      "2000-01-04  0.000692\n",
      "2000-01-05  0.000692\n",
      "2000-01-06  0.000693\n",
      "2000-01-07  0.000693\n",
      "...              ...\n",
      "2022-03-25  0.000437\n",
      "2022-03-28  0.000437\n",
      "2022-03-29  0.000437\n",
      "2022-03-30  0.000437\n",
      "2022-03-31  0.000437\n",
      "\n",
      "[5588 rows x 1 columns]\n"
     ]
    }
   ],
   "execution_count": 15
  },
  {
   "metadata": {
    "ExecuteTime": {
     "end_time": "2024-09-11T18:29:56.498638Z",
     "start_time": "2024-09-11T18:29:56.360321Z"
    }
   },
   "cell_type": "code",
   "source": [
    "# Calculando a rentabilidade das janelas de 500 dias.\n",
    "# Importante notar que essa janela se basea em cada intervalo possível de 500 dias no range de datas informadas:\n",
    "# Exemplo: Primeira janela -> 01/01/2000 + 500 dias | Segunda janela -> 02/01/2000 + 500 dias | Terceira Janela -> 03/01/2000 + 500 dias | etc\n",
    "janelas_500_dias = ((1 + selic_questao_2).rolling(window=500).apply(np.prod) - 1)\n",
    "\n",
    "print(janelas_500_dias)"
   ],
   "id": "2a6c48e89535d67c",
   "outputs": [
    {
     "name": "stdout",
     "output_type": "stream",
     "text": [
      "               selic\n",
      "Date                \n",
      "2000-01-03       NaN\n",
      "2000-01-04       NaN\n",
      "2000-01-05       NaN\n",
      "2000-01-06       NaN\n",
      "2000-01-07       NaN\n",
      "...              ...\n",
      "2022-03-25  0.086543\n",
      "2022-03-28  0.086864\n",
      "2022-03-29  0.087185\n",
      "2022-03-30  0.087506\n",
      "2022-03-31  0.087826\n",
      "\n",
      "[5588 rows x 1 columns]\n"
     ]
    }
   ],
   "execution_count": 54
  },
  {
   "metadata": {
    "ExecuteTime": {
     "end_time": "2024-09-11T18:29:57.726849Z",
     "start_time": "2024-09-11T18:29:57.715848Z"
    }
   },
   "cell_type": "code",
   "source": [
    "# Transformando o indice de data em uma coluna da tabela:\n",
    "janelas_500_dias = janelas_500_dias.reset_index()\n",
    "\n",
    "print(janelas_500_dias)"
   ],
   "id": "9b9e42f77114b5cd",
   "outputs": [
    {
     "name": "stdout",
     "output_type": "stream",
     "text": [
      "           Date     selic\n",
      "0    2000-01-03       NaN\n",
      "1    2000-01-04       NaN\n",
      "2    2000-01-05       NaN\n",
      "3    2000-01-06       NaN\n",
      "4    2000-01-07       NaN\n",
      "...         ...       ...\n",
      "5583 2022-03-25  0.086543\n",
      "5584 2022-03-28  0.086864\n",
      "5585 2022-03-29  0.087185\n",
      "5586 2022-03-30  0.087506\n",
      "5587 2022-03-31  0.087826\n",
      "\n",
      "[5588 rows x 2 columns]\n"
     ]
    }
   ],
   "execution_count": 55
  },
  {
   "metadata": {
    "ExecuteTime": {
     "end_time": "2024-09-11T18:29:58.821010Z",
     "start_time": "2024-09-11T18:29:58.810178Z"
    }
   },
   "cell_type": "code",
   "source": [
    "# Adicionando a coluna de data inicial na tabela baseado na coluna 'Date':\n",
    "# Basicamente para cada linha que contem o valor de 'selic' estou pegando o valor de 'Date' de 500 linhas anteriorres.\n",
    "# OBS: Estou pegando apenas das linhas que contenham o valor de selic pois apenas elas tem 500 ou mais linhas anteriores.\n",
    "# janelas_500_dias['data_incial'] = janelas_500_dias['Date'].shift(500)  # -> Adicionando a coluna no final da tabela.\n",
    "janelas_500_dias.insert(0, 'data_incial', janelas_500_dias['Date'].shift(500))  # -> Adicionando a coluna no inicio da tabela.\n",
    "\n",
    "print(janelas_500_dias)"
   ],
   "id": "522c7419277dd29f",
   "outputs": [
    {
     "name": "stdout",
     "output_type": "stream",
     "text": [
      "     data_incial       Date     selic\n",
      "0            NaT 2000-01-03       NaN\n",
      "1            NaT 2000-01-04       NaN\n",
      "2            NaT 2000-01-05       NaN\n",
      "3            NaT 2000-01-06       NaN\n",
      "4            NaT 2000-01-07       NaN\n",
      "...          ...        ...       ...\n",
      "5583  2020-03-27 2022-03-25  0.086543\n",
      "5584  2020-03-30 2022-03-28  0.086864\n",
      "5585  2020-03-31 2022-03-29  0.087185\n",
      "5586  2020-04-01 2022-03-30  0.087506\n",
      "5587  2020-04-02 2022-03-31  0.087826\n",
      "\n",
      "[5588 rows x 3 columns]\n"
     ]
    }
   ],
   "execution_count": 56
  },
  {
   "metadata": {
    "ExecuteTime": {
     "end_time": "2024-09-11T18:30:00.908603Z",
     "start_time": "2024-09-11T18:30:00.888691Z"
    }
   },
   "cell_type": "code",
   "source": [
    "# Alterando o nome das colunas:\n",
    "janelas_500_dias.columns = ['data_inicial', 'data_final', 'retorno_selic_500d']\n",
    "\n",
    "# Removendo as linhas com valores vazios:\n",
    "janelas_500_dias = janelas_500_dias.dropna()\n",
    "\n",
    "print(janelas_500_dias)"
   ],
   "id": "6222e6b633aa69c2",
   "outputs": [
    {
     "name": "stdout",
     "output_type": "stream",
     "text": [
      "     data_inicial data_final  retorno_selic_500d\n",
      "500    2000-01-03 2002-01-02            0.377688\n",
      "501    2000-01-04 2002-01-03            0.377689\n",
      "502    2000-01-05 2002-01-04            0.377689\n",
      "503    2000-01-06 2002-01-07            0.377688\n",
      "504    2000-01-07 2002-01-08            0.377687\n",
      "...           ...        ...                 ...\n",
      "5583   2020-03-27 2022-03-25            0.086543\n",
      "5584   2020-03-30 2022-03-28            0.086864\n",
      "5585   2020-03-31 2022-03-29            0.087185\n",
      "5586   2020-04-01 2022-03-30            0.087506\n",
      "5587   2020-04-02 2022-03-31            0.087826\n",
      "\n",
      "[5088 rows x 3 columns]\n"
     ]
    }
   ],
   "execution_count": 57
  },
  {
   "metadata": {
    "ExecuteTime": {
     "end_time": "2024-09-11T18:30:01.892701Z",
     "start_time": "2024-09-11T18:30:01.845305Z"
    }
   },
   "cell_type": "code",
   "source": [
    "# Modificando o formato dos dados da tabela:\n",
    "\n",
    "# Alterando o formato das data para DD/MM/YYYY\n",
    "janelas_500_dias['data_inicial'] = janelas_500_dias['data_inicial'].dt.strftime('%d/%m/%Y')\n",
    "janelas_500_dias['data_final'] = janelas_500_dias['data_final'].dt.strftime('%d/%m/%Y')\n",
    "\n",
    "# Transformando os valores da linha para % e arredondando para 4 casas decimais:\n",
    "janelas_500_dias['retorno_selic_500d'] = round(janelas_500_dias['retorno_selic_500d'] * 100, 4)\n",
    "\n",
    "print(janelas_500_dias)"
   ],
   "id": "b2e707f24b1d5fdb",
   "outputs": [
    {
     "name": "stdout",
     "output_type": "stream",
     "text": [
      "     data_inicial  data_final  retorno_selic_500d\n",
      "500    03/01/2000  02/01/2002             37.7688\n",
      "501    04/01/2000  03/01/2002             37.7689\n",
      "502    05/01/2000  04/01/2002             37.7689\n",
      "503    06/01/2000  07/01/2002             37.7688\n",
      "504    07/01/2000  08/01/2002             37.7687\n",
      "...           ...         ...                 ...\n",
      "5583   27/03/2020  25/03/2022              8.6543\n",
      "5584   30/03/2020  28/03/2022              8.6864\n",
      "5585   31/03/2020  29/03/2022              8.7185\n",
      "5586   01/04/2020  30/03/2022              8.7506\n",
      "5587   02/04/2020  31/03/2022              8.7826\n",
      "\n",
      "[5088 rows x 3 columns]\n"
     ]
    }
   ],
   "execution_count": 58
  },
  {
   "metadata": {
    "ExecuteTime": {
     "end_time": "2024-09-11T18:30:06.808036Z",
     "start_time": "2024-09-11T18:30:06.793874Z"
    }
   },
   "cell_type": "code",
   "source": [
    "# Pegando o maior retorno da tabela:\n",
    "maior_retorno = janelas_500_dias['retorno_selic_500d'].max()\n",
    "\n",
    "print(maior_retorno)"
   ],
   "id": "fc52b5e0082c3d51",
   "outputs": [
    {
     "name": "stdout",
     "output_type": "stream",
     "text": [
      "46.6967\n"
     ]
    }
   ],
   "execution_count": 59
  },
  {
   "metadata": {
    "ExecuteTime": {
     "end_time": "2024-09-11T18:30:08.074567Z",
     "start_time": "2024-09-11T18:30:08.066558Z"
    }
   },
   "cell_type": "code",
   "source": [
    "# Encontrando a linha que corresponde ao maior retorno:\n",
    "resposta_quetao_2 = janelas_500_dias[janelas_500_dias['retorno_selic_500d'] == maior_retorno]\n",
    "\n",
    "print(resposta_quetao_2)"
   ],
   "id": "c25866049b30ae78",
   "outputs": [
    {
     "name": "stdout",
     "output_type": "stream",
     "text": [
      "    data_inicial  data_final  retorno_selic_500d\n",
      "956   26/10/2001  22/10/2003             46.6967\n"
     ]
    }
   ],
   "execution_count": 60
  }
 ],
 "metadata": {
  "kernelspec": {
   "display_name": "Python 3",
   "language": "python",
   "name": "python3"
  },
  "language_info": {
   "codemirror_mode": {
    "name": "ipython",
    "version": 2
   },
   "file_extension": ".py",
   "mimetype": "text/x-python",
   "name": "python",
   "nbconvert_exporter": "python",
   "pygments_lexer": "ipython2",
   "version": "2.7.6"
  }
 },
 "nbformat": 4,
 "nbformat_minor": 5
}
